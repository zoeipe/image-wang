{
 "cells": [
  {
   "cell_type": "code",
   "execution_count": null,
   "id": "b42a822b",
   "metadata": {},
   "outputs": [
    {
     "ename": "",
     "evalue": "",
     "output_type": "error",
     "traceback": [
      "\u001b[1;31m运行具有“.venv (Python 3.12.4)”的单元格需要ipykernel包。\n",
      "\u001b[1;31m将“ipykernel”安装到 Python 环境中。\n",
      "\u001b[1;31m命令:“/Users/wangxudong/Documents/月2/.venv/bin/python -m pip install ipykernel -U --force-reinstall”"
     ]
    }
   ],
   "source": [
    "from matplotlib import pyplot as p\n",
    "import numpy as np\n",
    "\n",
    "I = np.random.rand(256, 256)\n",
    "p.imshow(I, cmap=\"gray\")\n",
    "p.axis('off')\n",
    "p.show()"
   ]
  }
 ],
 "metadata": {
  "kernelspec": {
   "display_name": ".venv",
   "language": "python",
   "name": "python3"
  },
  "language_info": {
   "name": "python",
   "version": "3.12.4"
  }
 },
 "nbformat": 4,
 "nbformat_minor": 5
}
